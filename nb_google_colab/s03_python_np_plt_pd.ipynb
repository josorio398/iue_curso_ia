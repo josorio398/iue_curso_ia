{
  "nbformat": 4,
  "nbformat_minor": 0,
  "metadata": {
    "colab": {
      "name": "s03_python_np_plt_pd.ipynb",
      "provenance": [],
      "collapsed_sections": [],
      "include_colab_link": true
    },
    "kernelspec": {
      "name": "python3",
      "display_name": "Python 3"
    },
    "accelerator": "GPU"
  },
  "cells": [
    {
      "cell_type": "markdown",
      "metadata": {
        "id": "view-in-github",
        "colab_type": "text"
      },
      "source": [
        "<a href=\"https://colab.research.google.com/github/ssanchezgoe/iue_curso_ia/blob/main/nb_google_colab/s03_python_np_plt_pd.ipynb\" target=\"_parent\"><img src=\"https://colab.research.google.com/assets/colab-badge.svg\" alt=\"Open In Colab\"/></a>"
      ]
    },
    {
      "cell_type": "markdown",
      "metadata": {
        "id": "mtEzBLXfdP4q"
      },
      "source": [
        "  <tr>\n",
        "     <th><p><img alt=\"Colaboratory logo\" height=\"120 px\" src=\"http://www.redttu.edu.co/es/wp-content/uploads/2016/01/iue.png\" align=\"left\" hspace=\"10px\" vspace=\"0px\"></p></th> \n",
        "     <th><h1>  Python: Numpy, matplotlib y Pandas </h1></th>\n",
        "  </tr>"
      ]
    },
    {
      "cell_type": "markdown",
      "metadata": {
        "id": "sYkr79uu_Lp-"
      },
      "source": [
        "## More Resources\n",
        "\n",
        "Learn how to make the most of Python, Jupyter, Colaboratory, and related tools with these resources:\n",
        "\n",
        "### Working with Notebooks in Colaboratory\n",
        "- [Overview of Colaboratory](/notebooks/basic_features_overview.ipynb)\n",
        "- [Guide to Markdown](/notebooks/markdown_guide.ipynb)\n",
        "- [Importing libraries and installing dependencies](/notebooks/snippets/importing_libraries.ipynb)\n",
        "- [Saving and loading notebooks in GitHub](https://colab.research.google.com/github/googlecolab/colabtools/blob/master/notebooks/colab-github-demo.ipynb)\n",
        "- [Interactive forms](/notebooks/forms.ipynb)\n",
        "- [Interactive widgets](/notebooks/widgets.ipynb)\n",
        "\n",
        "### Working with Data\n",
        "- [Loading data: Drive, Sheets, and Google Cloud Storage](/notebooks/io.ipynb) \n",
        "- [Charts: visualizing data](/notebooks/charts.ipynb)\n",
        "- [Getting started with BigQuery](/notebooks/bigquery.ipynb)\n",
        "\n",
        "### Machine Learning Crash Course\n",
        "These are a few of the notebooks from Google's online Machine Learning course. See the [full course website](https://developers.google.com/machine-learning/crash-course/) for more.\n",
        "- [Intro to Pandas](/notebooks/mlcc/intro_to_pandas.ipynb)\n",
        "- [Tensorflow concepts](/notebooks/mlcc/tensorflow_programming_concepts.ipynb)\n",
        "- [First steps with TensorFlow](/notebooks/mlcc/first_steps_with_tensor_flow.ipynb)\n",
        "- [Intro to neural nets](/notebooks/mlcc/intro_to_neural_nets.ipynb)\n",
        "- [Intro to sparse data and embeddings](/notebooks/mlcc/intro_to_sparse_data_and_embeddings.ipynb)\n",
        "\n",
        "### Using Accelerated Hardware\n",
        "- [TensorFlow with GPUs](/notebooks/gpu.ipynb)\n",
        "- [TensorFlow with TPUs](/notebooks/tpu.ipynb)"
      ]
    },
    {
      "cell_type": "markdown",
      "metadata": {
        "id": "SW9cZkhEdn7N"
      },
      "source": [
        "<p><a name=\"contents\"></a></p>\n",
        "\n",
        "# Contenido Sesión 2\n",
        "\n",
        "- <a href=\"#libs\">1. Librerías en Python.\n",
        "   - <a href=\"#ilbintro\">1.1 Introducción</a><br>\n",
        "- <a href=\"#numpy\">2. Numpy</a><br>\n",
        "   - <a href=\"#arrays\">2.1. Arrays</a><br>\n",
        "   - <a href=\"#dataType\">2.2. Tipos de datos</a><br>\n",
        "   - <a href=\"#arraysBAS\">2.3. Manipulación de los arrays</a><br>\n",
        "    - <a href=\"#arraysATT\">2.3.1. Atributos </a><br>\n",
        "    - <a href=\"#arraysIDX\">2.3.2. Indexado </a><br>\n",
        "    - <a href=\"#arraysSLI\">2.3.3. Segmentación </a><br>\n",
        "    - <a href=\"#arraysRES\">2.3.4. Reshape</a><br>\n",
        "    - <a href=\"#arraysCON\">2.3.5. Concatenación y división</a><br>\n",
        "   - <a href=\"#arrayMath\">2.4. Operaciones entre arrays</a><br>\n",
        "   - <a href=\"#bcasting\">2.5. Broadcasting</a><br>\n",
        "   - <a href=\"#tnumpy\">2.6. Taller numpy</a><br>\n",
        "- <a href=\"#matplotlib\">3. Matplotlib</a><br>\n",
        "  - <a href=\"#mpylab\">3.1 matplotlib, pyplot y pylab </a><br>\n",
        "  - <a href=\"#plotfunc\">3.2 Función `plot` </a><br>\n",
        "  - <a href=\"#catVars\">3.3 Gráficas de varibles categóricas </a><br>\n",
        "  - <a href=\"#scatterPlots\">3.4 Gráficos de dispersión </a><br>\n",
        "  - <a href=\"#tmatplotlib\">3.5 Taller `matplotlib` </a><br>\n",
        "- <a href=\"#pandas\">4. Pandas</a><br>\n",
        " - <a href=\"#ipandas\">4.1 Introducción a `pandas` </a><br>\n",
        " - <a href=\"#visu\">4.2 Visualización del dataFrame </a><br>\n",
        " - <a href=\"#internet\">4.3 Carga de una base de datos de internet </a><br>\n",
        " - <a href=\"#dataExploration\">4.4 Exploración básica del dataFrame </a><br>\n",
        " - <a href=\"#timeSeries\">4.5 Series de tiempo </a><br>\n",
        " - <a href=\"#tpandas\">4.6 Taller `pandas` </a><br>\n"
      ]
    },
    {
      "cell_type": "markdown",
      "metadata": {
        "id": "1P7kbSzrjJsk"
      },
      "source": [
        "<p><a name=\"libs\"></a></p>\n",
        "\n",
        "# Librerías en Python\n",
        "\n",
        "[[Contenidos]](#contents)\n",
        "\n",
        "En Python, una libreria es una colección de funciones y métodos que nos permiten realizar varias acciones sin la necesidad de programarlas explicitamente. Las librerias suelen contener módulos integrados que proporcionan diferentes funcionalidades que pueden ser usadas directamente. \n",
        "\n",
        "Existen varias librerías extensas con un amplio rango de opciones. Podemos dividir estas librerías en tres grandes grupos:\n",
        "\n",
        "\n",
        "\n",
        "1.   Librerías de computación científica: [numPy](https://numpy.org/), [pandas](https://pandas.pydata.org/) y [SciPy](https://www.scipy.org/)\n",
        "2.   Librerías de visualización: [matplotlib](https://matplotlib.org/) y [seaborn](https://seaborn.pydata.org/).\n",
        "3.   Librerías de algoritmos: [Skir-learn](https://scikit-learn.org/stable/) y [Statsmodels](https://www.statsmodels.org/stable/index.html#).\n",
        "\n",
        "En lo que respecta a la **sección 2** nos centraremos en las librerías cientificas y de visualización de numPy, pandas y matplotlib.\n",
        "\n"
      ]
    },
    {
      "cell_type": "markdown",
      "metadata": {
        "id": "hn__DFsalOfa"
      },
      "source": [
        "<p><a name=\"numpy\"></a></p>\n",
        "\n",
        "# 2. Numpy\n",
        "\n",
        "[[Contenidos]](#contents)\n",
        "\n",
        "\n",
        "Numpy es la librería central para el computo científico en Python. Esta librería proporciona objetos matriciales multidimensionales de alto desempeño, además de herramientas para trabajar con estos arreglos. Para quienes estén familiarizados con el algebra lineal encontrarán este tutorial útil para empezar a trabajar con Numpy."
      ]
    },
    {
      "cell_type": "code",
      "metadata": {
        "id": "Q2JaOEXgoV5b"
      },
      "source": [
        "#importación de numpy\n",
        "\n",
        "import numpy as np"
      ],
      "execution_count": null,
      "outputs": []
    },
    {
      "cell_type": "markdown",
      "metadata": {
        "id": "HB-jNF1wzG3a"
      },
      "source": [
        "<p><a name=\"arrays\"></a></p>\n",
        "\n",
        "## 2.1. Arrays\n",
        "\n",
        "[[Contenidos]](#contents)\n",
        "\n",
        "\n",
        "Un array en numpy es un grid de valores, del mismo tipo, los cuales son indexados por una tupla de enteros no negativos. El número de dimensiones es el rango de la matriz; la forma de la matríz es una tupla de enteros dados por el tamaño del array a lo largo de cada dimensión.\n",
        "\n",
        "\n",
        "\n",
        "Podemos inicializar los arrays de numpy mediante listas de Python y acceder a los elementos mediante corchetes `[]`\n"
      ]
    },
    {
      "cell_type": "code",
      "metadata": {
        "id": "ApzNyesGoQBf"
      },
      "source": [
        "a=np.array([0,1,2,3]) # Creación de un array de rango 1\n",
        "print(type(a))      # Impresión del tipo\n",
        "print(a.shape)      # impresión de la dimensión \"(4,)\"\n",
        "list(a)"
      ],
      "execution_count": null,
      "outputs": []
    },
    {
      "cell_type": "markdown",
      "metadata": {
        "id": "FoS8S0qAOu0-"
      },
      "source": [
        "También se puede crear en numpy un array de dos dimensiones, como una lista de listas:"
      ]
    },
    {
      "cell_type": "code",
      "metadata": {
        "id": "zoG2Ng9hOHfp"
      },
      "source": [
        "b = np.array([[0,1,2,3],[4,5,6,7]])    # Creación de un array de rango 2\n",
        "print(b.shape)                     # Impresión de las dimensiones \"(2, 4)\"\n",
        "print(b[0, 0], b[0, 1], b[1, 0])   # Impresión de los elementos 0, 1 y 4"
      ],
      "execution_count": null,
      "outputs": []
    },
    {
      "cell_type": "markdown",
      "metadata": {
        "id": "wLi3SWmkO3cn"
      },
      "source": [
        "Numpy proporciona varias funciones para la creación de arrays:\n"
      ]
    },
    {
      "cell_type": "code",
      "metadata": {
        "id": "REDIJWb_QdfC"
      },
      "source": [
        "a = np.zeros((2,2))                        # Creación de un array de zeros\n",
        "print(\"Array de ceros\", a)                 # Imprime \"[[ 0.  0.]\n",
        "                                           #          [ 0.  0.]]\"\n",
        "\n",
        "b = np.ones((1,2))                         # Creación de un array de unos\n",
        "print(\"Arrays de unos\", b)                 # Imprime \"[[ 1.  1.]]\"\n",
        "\n",
        "c = np.full((2,2), 8)                      # Creación de un array de una costante\n",
        "print(\"Array constante\", c)                # Imprime \"[[ 8.  8.]\n",
        "                                           #          [ 8.  8.]]\"\n",
        "\n",
        "d = np.eye(2)                              # Creación de la matriz indentidad de 2x2.\n",
        "print(\"Matriz identidad 2x2\", d)           # Imprime \"[[ 1.  0.]\n",
        "                                           #          [ 0.  1.]]\"\n",
        "\n",
        "e = np.arange(0, 20, 2)                    # Creación de un vector lleno de una secuencia lineal\n",
        "print(\"Array de una secuencia lineal\" ,e)  # que comience en 0, finalice en 18, con paso 2.\n",
        "\n",
        "\n",
        "f = np.linspace(0, 1, 5)                   # Crea un vector de cinco valores espaciados \n",
        "print(\"Array de una secuencia lineal2\",f)  # uniformemente entre 0 y 1.   \n",
        "\n",
        "\n",
        "g = np.random.random((2,2))                # Creación de una matriz de 2x2 de valores aleatorios.\n",
        "print(\"Array de números aleatorios(u)\", g) # distribuidos uniformemente.\n",
        "\n",
        "\n",
        "h = np.random.normal(0, 1, (3, 3))         # Creación una matriz 3x3 de valores aleatorios normalmente \n",
        "print(\"Array de números aleatorios(n)\", h) # distribuidos con media 0 y desviación estándar 1.\n",
        "\n",
        "\n",
        "i = np.random.randint(0, 10, (3, 3))       # Creación de una matriz 3x3 de números enteros aleatorios\n",
        "print(\"Array de números aleatorios(i)\",i)  # en el intervalo [0,10)\n"
      ],
      "execution_count": null,
      "outputs": []
    },
    {
      "cell_type": "markdown",
      "metadata": {
        "id": "aDUkFkiNzqAt"
      },
      "source": [
        "<p><a name=\"dataType\"></a></p>\n",
        "\n",
        "## 2.2. Tipos de datos."
      ]
    },
    {
      "cell_type": "markdown",
      "metadata": {
        "id": "XWTfZKIhWQdO"
      },
      "source": [
        "[[Contenidos]](#contents)\n",
        "\n",
        "Los arrays en NumPy contienen valores de un solo tipo, por lo que es importante tener conocimiento de esos tipos y sus limitaciones. En numpy, los elementos de un array  por defecto son floats de 64 bits, es decir, que cada float ocupa 8 bytes en memoria. Vemos esto en el siguiente ejemplo"
      ]
    },
    {
      "cell_type": "code",
      "metadata": {
        "id": "j7ZxXurxTTxd"
      },
      "source": [
        "n = np.zeros((1))\n",
        "print(\"Tipo de dato almacenado en un elemento del array:\", type(n[0]))\n",
        "print(\"Bytes almacenados en el array: %d bytes\" % (n.size * n.itemsize))"
      ],
      "execution_count": null,
      "outputs": []
    },
    {
      "cell_type": "markdown",
      "metadata": {
        "id": "EdedVnLvtDgA"
      },
      "source": [
        "El tipo por defecto de cada elemento del array es `float64`, que ocupan 8 bytes de memoria. Si se quiere cambiar el tipo por defecto, se debe acceder mediante `dtype=np.` y el nombre del tipo deseado, por ejemplo:"
      ]
    },
    {
      "cell_type": "code",
      "metadata": {
        "id": "G5y3njGotmui"
      },
      "source": [
        "# Definición de un array de enteros de 8 bits\n",
        "n = np.zeros((1), dtype = np.int8)\n",
        "print(\"Tipo de dato almacenado en un elemento del array:\", type(n[0]))\n",
        "print(\"Bytes almacenados en el array: %d bytes\" % (n.size * n.itemsize))"
      ],
      "execution_count": null,
      "outputs": []
    },
    {
      "cell_type": "markdown",
      "metadata": {
        "id": "Bm6umNJTAqnU"
      },
      "source": [
        "ver tipos de datos: https://numpy.org/devdocs/user/basics.types.html"
      ]
    },
    {
      "cell_type": "markdown",
      "metadata": {
        "id": "KRZdYM8EBIfv"
      },
      "source": [
        "<p><a name=\"arraysBAS\"></a></p>\n",
        "\n",
        "## 2.3. Manipulación de los arrays"
      ]
    },
    {
      "cell_type": "markdown",
      "metadata": {
        "id": "hMrRBFpuCOYE"
      },
      "source": [
        "[[Contenidos]](#contents)\n",
        "\n"
      ]
    },
    {
      "cell_type": "markdown",
      "metadata": {
        "id": "aUAVSSFjA8JF"
      },
      "source": [
        "<p><a name=\"arraysATT\"></a></p>\n",
        "\n",
        "###2.3.1. Atributos\n",
        "\n",
        "Cada array tiene como atributos: <code>ndim</code>  (el número de dimensiones), <code>shape</code> (el tamaño de cada dimensión) y <code>size</code> (el tamaño total de la matriz o número de elementos):\n"
      ]
    },
    {
      "cell_type": "code",
      "metadata": {
        "id": "1zx4b91dC5iX"
      },
      "source": [
        "x1 = np.random.randint(10, size=6)          # array unidimensional\n",
        "x2 = np.random.randint(10, size=(3, 4))     # array bidimensional\n",
        "x3 = np.random.randint(10, size=(3, 4, 5))  # array tridimensional\n",
        "\n",
        "print(\"x1 ndim: \", x1.ndim)\n",
        "print(\"x1 shape:\", x1.shape)\n",
        "print(\"x1 size: \", x1.size,\"\\n\")\n",
        "\n",
        "print(\"x2 ndim: \", x2.ndim)\n",
        "print(\"x2 shape:\", x2.shape)\n",
        "print(\"x2 size: \", x2.size, \"\\n\")\n",
        "\n",
        "print(\"x3 ndim: \", x3.ndim)\n",
        "print(\"x3 shape:\", x3.shape)\n",
        "print(\"x3 size: \", x3.size)"
      ],
      "execution_count": null,
      "outputs": []
    },
    {
      "cell_type": "markdown",
      "metadata": {
        "id": "lNlJw0HeGIIC"
      },
      "source": [
        "Otro atributo útil es el <code>dtype</code>, el tipo de dato del array (discutido previamente en la sección 2.2.)"
      ]
    },
    {
      "cell_type": "code",
      "metadata": {
        "id": "DewYiYJqGQ34"
      },
      "source": [
        "print(\"dtype: \", x3.dtype)"
      ],
      "execution_count": null,
      "outputs": []
    },
    {
      "cell_type": "markdown",
      "metadata": {
        "id": "T8-an6XDGizu"
      },
      "source": [
        "Otros atributos incluyen <code>itemsize</code>, que enumera el tamaño (en bytes) de cada elemento del array,\n",
        "y <code>nbytes</code>, que enumera el tamaño total (en bytes) del array"
      ]
    },
    {
      "cell_type": "code",
      "metadata": {
        "id": "84xkkKF6G_YU"
      },
      "source": [
        "print(\"itemsize:\", x3.itemsize, \"bytes\")\n",
        "print(\"nbytes:\", x3.nbytes, \"bytes\")"
      ],
      "execution_count": null,
      "outputs": []
    },
    {
      "cell_type": "markdown",
      "metadata": {
        "id": "EjugYaD5HfQl"
      },
      "source": [
        "En general, esperamos que  <code>nbytes </code> sea igual a  <code>itemsize </code>  por  <code>size </code>."
      ]
    },
    {
      "cell_type": "code",
      "metadata": {
        "id": "60cMP_eHJ1Xs"
      },
      "source": [
        "print(\"El número de bytes que ocupa x3 es:\", x3.itemsize*x3.size, \"bytes\")"
      ],
      "execution_count": null,
      "outputs": []
    },
    {
      "cell_type": "markdown",
      "metadata": {
        "id": "BEe6fe-PzXBf"
      },
      "source": [
        "<p><a name=\"arraysIDX\"></a></p>\n",
        "\n",
        "### 2.3.2. Indexado\n",
        "\n",
        "[[Contenidos]](#contents)\n",
        "\n",
        "Al igual que en las librerias estándar de Python, se puede acceder a la i-ésima componente de un array especificando el índice deseado entre []"
      ]
    },
    {
      "cell_type": "code",
      "metadata": {
        "id": "X7-kPWAbI_Sq"
      },
      "source": [
        "print(x1)\n",
        "\n",
        "print(x1[0])"
      ],
      "execution_count": null,
      "outputs": []
    },
    {
      "cell_type": "markdown",
      "metadata": {
        "id": "rCjdMfYHKBxm"
      },
      "source": [
        "En un array multidimensional, se accede a los elementos utilizando una tupla de índices separados por comas"
      ]
    },
    {
      "cell_type": "code",
      "metadata": {
        "id": "5JDno9bhKRCS"
      },
      "source": [
        "print(x2)\n",
        "\n",
        "print(x2[0,1])"
      ],
      "execution_count": null,
      "outputs": []
    },
    {
      "cell_type": "markdown",
      "metadata": {
        "id": "H03qUs3PLdRP"
      },
      "source": [
        "Recordemos que los arrays en NumPy tiene un tipo fijo. Si intentamos insertar un número de tipo flotante en un array de tipo entero, el valor se truncará"
      ]
    },
    {
      "cell_type": "code",
      "metadata": {
        "id": "Nchf3cKTLpJE"
      },
      "source": [
        "x1[0] = 3.1415\n",
        "print(x1)"
      ],
      "execution_count": null,
      "outputs": []
    },
    {
      "cell_type": "markdown",
      "metadata": {
        "id": "tpxd_MBXXebw"
      },
      "source": [
        "En el caso tridimensional"
      ]
    },
    {
      "cell_type": "code",
      "metadata": {
        "id": "ng-oz5ObXd_s"
      },
      "source": [
        "print(x3,\"\\n\")\n",
        "\n",
        "print(\"Dos formas de acceder al mismo elemento: \\n\")\n",
        "print(\"x3[1][1][0] =\", x3[1][1][0])\n",
        "print(\"x3[1,1,0] =\", x3[1,1,0])"
      ],
      "execution_count": null,
      "outputs": []
    },
    {
      "cell_type": "markdown",
      "metadata": {
        "id": "ef1KZw0JBfCK"
      },
      "source": [
        "<p><a name=\"arraysSLI\"></a></p>\n",
        "\n",
        "### 2.3.3. Segmentación\n",
        "\n",
        "[[Contenidos]](#contents)\n",
        "\n",
        "La sintaxis de segmentación NumPy sigue la de la lista estándar de Python: <code>x[inicio:final:paso]</code>"
      ]
    },
    {
      "cell_type": "code",
      "metadata": {
        "id": "F1UB_I8MNtvx"
      },
      "source": [
        "x = np.arange(10)     \n",
        "\n",
        "print(x)\n",
        "\n",
        "print('Primeros cinco elementos ',x[:5])\n",
        "\n",
        "print('Elementos luego del índice 5 ',x[5:])\n",
        "\n",
        "print('Subarray medio ',x[4:7])\n",
        "\n",
        "print('Subarray medio2', x[4:-3])\n",
        "\n",
        "print('Elementos separados por dos índices ',x[::2])\n",
        "\n",
        "print('Elementos separados por dos índices comenzando en el índice 1 ',x[1::2])"
      ],
      "execution_count": null,
      "outputs": []
    },
    {
      "cell_type": "markdown",
      "metadata": {
        "id": "3IxyCwGgP1BE"
      },
      "source": [
        "Un caso potencialmente confuso es cuando el valor del paso es negativo. En este caso, los valores predeterminados para <code>inicio</code> y \n",
        "<code>final</code> se intercambian."
      ]
    },
    {
      "cell_type": "code",
      "metadata": {
        "id": "F_kJNMyNP8bs"
      },
      "source": [
        "print(x[::-1])      # Se reversan todos los elementos \n",
        "\n",
        "print(x[5::-2])     # Se reversan los elementos desde el índice 5 con paso 2 "
      ],
      "execution_count": null,
      "outputs": []
    },
    {
      "cell_type": "markdown",
      "metadata": {
        "id": "fuenNeduPVP2"
      },
      "source": [
        "Para los arrays multidimensionales la segmentación se hace de una manera similar, por ejemplo:"
      ]
    },
    {
      "cell_type": "code",
      "metadata": {
        "id": "YAVT_c6PPJG-"
      },
      "source": [
        "print(x2)\n",
        "\n",
        "print('Dos filas, tres columnas')\n",
        "print(x2[:2, :3])  \n",
        "\n",
        "print('Todas las filas, dos columnas')\n",
        "print(x2[:, :2])      \n",
        "\n",
        "print('Dos filas, el resto de columnas con paso 2')\n",
        "print(x2[:2, ::2])        \n",
        "\n",
        "print('Primera fila')\n",
        "print(x2[0])"
      ],
      "execution_count": null,
      "outputs": []
    },
    {
      "cell_type": "code",
      "metadata": {
        "id": "gm-aZkm6VBQE"
      },
      "source": [
        "print(x3)\n",
        "\n",
        "print('Tercer array, dos filas y tres columnas')\n",
        "print(x3[2,:2,:3])\n",
        "\n",
        "print('Hasta el 2do array, dos filas y dos columnas')\n",
        "print(x3[:2,:2,:2])"
      ],
      "execution_count": null,
      "outputs": []
    },
    {
      "cell_type": "markdown",
      "metadata": {
        "id": "CM0OAc5wa4-t"
      },
      "source": [
        "Es importante tener en cuenta que la segmentación de arrays en NumPy devuelve *vistas*  en lugar de *copias* de los datos del array. Esto significa que cuando trabajamos con grandes conjuntos de datos, podemos acceder y procesar partes de estos conjuntos de datos sin la necesidad de copiar el búfer de datos subyacente."
      ]
    },
    {
      "cell_type": "code",
      "metadata": {
        "id": "3Y89Onz1bO1h"
      },
      "source": [
        "print('Array original \\n',x2)\n",
        "\n",
        "sub_array = x2[:2,:2]\n",
        "\n",
        "sub_array[0,0] = 1\n",
        "\n",
        "print('Array luego de modificar el subarray \\n',x2)"
      ],
      "execution_count": null,
      "outputs": []
    },
    {
      "cell_type": "markdown",
      "metadata": {
        "id": "ztGzf48tb4U5"
      },
      "source": [
        "A veces es útil copiar explícitamente los datos dentro de un array o un  subarray. Esto se puede hacer más fácilmente con el\n",
        "método <code>copy()</code>"
      ]
    },
    {
      "cell_type": "code",
      "metadata": {
        "id": "DkFK83b5denr"
      },
      "source": [
        "sub_array_copia = x2[:2,:2].copy()\n",
        "sub_array_copia[0,0] = 20\n",
        "\n",
        "print(sub_array_copia)\n",
        "print(5*'-')\n",
        "print(x2)"
      ],
      "execution_count": null,
      "outputs": []
    },
    {
      "cell_type": "markdown",
      "metadata": {
        "id": "9Ez4uourB6CM"
      },
      "source": [
        "<p><a name=\"arraysRES\"></a></p>\n",
        "\n",
        "### 2.3.4. Reshape\n",
        "\n",
        "[[Contenidos]](#contents)\n",
        "\n",
        "Otro tipo útil de operación es el \"reshape\" de arrays. La forma más flexible de hacerlo es con el método <code>reshape()</code>. \n",
        "\n"
      ]
    },
    {
      "cell_type": "code",
      "metadata": {
        "id": "gwJ2emt68ObB"
      },
      "source": [
        "grilla = np.arange(1, 10).reshape((3, 3))            \n",
        "print(grilla)\n",
        "\n",
        "a = np.array([[1,2,3], [4,5,6]]).reshape(1,6)\n",
        "print(a)"
      ],
      "execution_count": null,
      "outputs": []
    },
    {
      "cell_type": "markdown",
      "metadata": {
        "id": "tLcXP-5n9KQ3"
      },
      "source": [
        "Podemos convertir un array unidimensional en un vector fila o columna bidimensional \n",
        "\n"
      ]
    },
    {
      "cell_type": "code",
      "metadata": {
        "id": "6Livw21U9TBQ"
      },
      "source": [
        "x = np.array([1,2,3])\n",
        "\n",
        "fil_x = x.reshape((1,3))    # vector fila\n",
        "col_x = x.reshape((3,1))    # vector columna\n",
        "\n",
        "print(fil_x)\n",
        "print(col_x)"
      ],
      "execution_count": null,
      "outputs": []
    },
    {
      "cell_type": "markdown",
      "metadata": {
        "id": "HpobXl09HLRj"
      },
      "source": [
        "<p><a name=\"arraysCON\"></a></p>\n",
        "\n",
        "### 2.2.5. Concatenación y división de arrays\n",
        "\n",
        "[[Contenidos]](#contents)\n",
        "\n",
        "Todas las rutinas anteriores funcionaron en arrays individuales. También es posible combinar varios arrays en uno solo o, por el contrario, dividir un array en varios. La concatenación, o unión de dos arrays en NumPy, se realiza principalmente a través de la rutina <code>np.concatenate</code>\n"
      ]
    },
    {
      "cell_type": "code",
      "metadata": {
        "id": "nRpkEwBSIU7e"
      },
      "source": [
        "x = np.array([1, 2, 3])\n",
        "y = np.array([3, 2, 1])\n",
        "z = np.concatenate([x, y])\n",
        "print(z)"
      ],
      "execution_count": null,
      "outputs": []
    },
    {
      "cell_type": "markdown",
      "metadata": {
        "id": "BhwiTVYzItHY"
      },
      "source": [
        "\n",
        "También se puede utilizar para arrays bidimensionales"
      ]
    },
    {
      "cell_type": "code",
      "metadata": {
        "id": "ImZZ9zIVIz-z"
      },
      "source": [
        "grilla = np.array([[1, 2, 3], [4, 5, 6]])\n",
        "\n",
        "z1 = np.concatenate([grilla,grilla])            # concatenar a lo largo del primer eje\n",
        "print(z1)\n",
        "print(5*'-')\n",
        "z2 = np.concatenate([grilla,grilla], axis=1)    # concatenar a lo largo del segundo eje\n",
        "print(z2)"
      ],
      "execution_count": null,
      "outputs": []
    },
    {
      "cell_type": "markdown",
      "metadata": {
        "id": "6gC3eowqKuKY"
      },
      "source": [
        "Para trabajar con arrays de dimensiones mixtas, puede ser más claro usar las funciones  <code>np.vstack</code> y <code>np.hstack</code>. \n"
      ]
    },
    {
      "cell_type": "code",
      "metadata": {
        "id": "Tu-Dla5nK-zh"
      },
      "source": [
        "# Apilar verticalmente los arrays\n",
        "x = np.array([11, 22, 33])\n",
        "z1 = np.vstack([x,grilla])\n",
        "print(z1)\n",
        "\n",
        "print(5*'-')\n",
        "# Apilar horizontalmente los arrays\n",
        "y = np.array([[99], [99]])\n",
        "z2 = np.hstack([grilla, y])\n",
        "print(z2)"
      ],
      "execution_count": null,
      "outputs": []
    },
    {
      "cell_type": "markdown",
      "metadata": {
        "id": "463MK3SkNX3D"
      },
      "source": [
        "Lo opuesto a la concatenación es la división, que se implementa mediante las funciones <code>np.split</code>, <code>np.hsplit</code> y <code>np.vsplit</code>\n"
      ]
    },
    {
      "cell_type": "code",
      "metadata": {
        "id": "yysGRkhaNlc7"
      },
      "source": [
        "x = [1, 2, 3, 99, 99, 3, 2, 1]\n",
        "x1, x2, x3 = np.split(x, [3, 5])\n",
        "print(x1, x2, x3)"
      ],
      "execution_count": null,
      "outputs": []
    },
    {
      "cell_type": "markdown",
      "metadata": {
        "id": "jDAhKsOXd9VI"
      },
      "source": [
        "Note que las funciones `np.hsplit` y `np.vsplit` son similares"
      ]
    },
    {
      "cell_type": "code",
      "metadata": {
        "id": "iN0f1cVvN4Zj"
      },
      "source": [
        "grilla = np.arange(16).reshape((4, 4))\n",
        "\n",
        "sup, inf = np.vsplit(grilla, [2])\n",
        "print(sup)\n",
        "print(5*'-')\n",
        "print(inf)"
      ],
      "execution_count": null,
      "outputs": []
    },
    {
      "cell_type": "code",
      "metadata": {
        "id": "GTbRCocjOS_R"
      },
      "source": [
        "izq, der = np.hsplit(grilla, [2])\n",
        "print(izq)\n",
        "print(5*'-')\n",
        "print(der)"
      ],
      "execution_count": null,
      "outputs": []
    },
    {
      "cell_type": "markdown",
      "metadata": {
        "id": "4CFfCTUfg-EH"
      },
      "source": [
        "<p><a name=\"arrayMath\"></a></p>\n",
        "\n",
        "## 2.4. Operaciones entre arrays \n",
        "\n",
        "[[Contenidos]](#contents)\n",
        "\n",
        "### 2.4.1. Operaciones vectorizadas\n",
        "\n",
        "El cálculo con arrays en NumPy puede ser muy rápido o muy lento. La clave para hacerlo rápido es usar operaciones *vectorizadas*, generalmente implementadas a través de las funciones universales de NumPy (ufuncs)"
      ]
    },
    {
      "cell_type": "code",
      "metadata": {
        "id": "XJNXfC8J8A_O"
      },
      "source": [
        "def compute_reciprocals(values):\n",
        "  output = np.empty(len(values))\n",
        "  for i in range(len(values)):\n",
        "    output[i] = 1.0 / values[i]\n",
        "  return output\n",
        "\n",
        "big_array = np.random.randint(1, 100, size=1000000) \n",
        "\n",
        "\n",
        "%timeit compute_reciprocals(big_array)          # calculo en loop\n",
        "\n",
        "%timeit (1.0 / big_array)                       # calculo vectorizado"
      ],
      "execution_count": null,
      "outputs": []
    },
    {
      "cell_type": "markdown",
      "metadata": {
        "id": "FM8EdbgL-4QG"
      },
      "source": [
        "Las operaciones vectorizadas en NumPy se implementan a través de las ufuncs, cuyo objetivo principal es ejecutar rápidamente operaciones de forma repetida sobre valores de arrays. Las operaciones con ufuncs no se limitan a arrays unidimensionales, sino que también pueden actuar sobre arrays multidimensionales "
      ]
    },
    {
      "cell_type": "code",
      "metadata": {
        "id": "xyfbKnVC_mW0"
      },
      "source": [
        "print(np.arange(5) / np.arange(1, 6))         # Operación sobre array unidimensional\n",
        "\n",
        "print(5*'-')\n",
        "x = np.arange(9).reshape((3, 3))              # Operación sobre array multidimensional\n",
        "print(2**x)"
      ],
      "execution_count": null,
      "outputs": []
    },
    {
      "cell_type": "markdown",
      "metadata": {
        "id": "d-jGhCb5Aayf"
      },
      "source": [
        "Los cálculos que usan vectorización a través de ufuncs son casi siempre más eficientes que su contraparte implementada a través de ciclos, especialmente a medida que los arrays crecen en tamaño. Cada vez que se vea un ciclo de este tipo en un script de Python, debe considerarse si este puede reemplazarse con una expresión vectorizada."
      ]
    },
    {
      "cell_type": "markdown",
      "metadata": {
        "id": "Nbkpq8HPU_Jl"
      },
      "source": [
        "**Definición:** En el contexto de lenguajes de alto nivel como Python, MATLAB o R, el término **vectorización** representa el uso de código optimizado y precompilado escritos en lenguajes de bajo nivel (por ejemplo C) para realizar operaciones matemáticas en una secuencia de datos. Esto se realiza en lugar de una iteración explicita escrita en código nativo."
      ]
    },
    {
      "cell_type": "markdown",
      "metadata": {
        "id": "59bWwCsfAzGH"
      },
      "source": [
        "### 2.4.2. Ufuncs\n",
        "\n",
        "https://docs.scipy.org/doc/numpy/reference/ufuncs.html"
      ]
    },
    {
      "cell_type": "code",
      "metadata": {
        "id": "sdFATPpfCEk6"
      },
      "source": [
        "x = np.arange(1,5)\n",
        "print(x)\n",
        "\n",
        "# Operadores aritméticos\n",
        "print('x+2 ',np.add(x,2))\n",
        "print('x-2 ',np.subtract(x,2))\n",
        "print('-x ',np.negative(x))\n",
        "print('x*2 ',np.multiply(x,2))\n",
        "print('x/2 ',np.divide(x,2))\n",
        "print('x^2 ',np.power(x,2))\n",
        "\n",
        "# Funciones trigonométricas\n",
        "theta = np.linspace(0,np.pi,3)\n",
        "\n",
        "print('sin(theta)',np.sin(theta))\n",
        "print('cos(theta)',np.cos(theta))\n",
        "\n",
        "# Exponenciales y logaritmos\n",
        "print(\"e^x =\", np.exp(x))\n",
        "print(\"2^x =\", np.exp2(x))\n",
        "print(\"3^x =\", np.power(3, x))\n",
        "\n",
        "print(\"ln(x) =\", np.log(x))\n",
        "print(\"log2(x) =\", np.log2(x))\n",
        "print(\"log10(x) =\", np.log10(x))"
      ],
      "execution_count": null,
      "outputs": []
    },
    {
      "cell_type": "markdown",
      "metadata": {
        "id": "y9M0gTBl61gy"
      },
      "source": [
        "### 2.4.3. Operaciones Básicas.\n",
        "\n",
        "Las operaciones matematicas basicas entre arrays, son operaciones elemento a elemento, y estan disponibles, tanto como sobrecarga de operadores como en funciones de la librería de numpy:"
      ]
    },
    {
      "cell_type": "code",
      "metadata": {
        "id": "3WDg1X327shT"
      },
      "source": [
        "x = np.array([[1,2],[3,4]], dtype=np.float64)\n",
        "y = np.array([[5,6],[7,8]], dtype=np.float64)\n",
        "\n",
        "# Suma elemento a elemento\n",
        "print(x + y)\n",
        "print(np.add(x, y))\n",
        "\n",
        "# Resta elemento a elemento.\n",
        "print(x - y)\n",
        "print(np.subtract(x, y))\n",
        "\n",
        "# Multiplicación elemento a elemento.\n",
        "print(x * y)\n",
        "print(np.multiply(x, y))\n",
        "\n",
        "# División elemento a elemento.\n",
        "print(x / y)\n",
        "print(np.divide(x, y))\n",
        "\n",
        "# Raiz cuadrada a cada elmento.\n",
        "print(np.sqrt(x))"
      ],
      "execution_count": null,
      "outputs": []
    },
    {
      "cell_type": "markdown",
      "metadata": {
        "id": "hjEETdx_8wyF"
      },
      "source": [
        "Nótese que la multiplicación mediante el operador `*` corresponde a una multiplicación elemento a elemento entre dos arrays. En Python, la multiplicación matricial entre dos arrays se realiza mediante la función punto (`dot`)."
      ]
    },
    {
      "cell_type": "code",
      "metadata": {
        "id": "GnH9g3-cOS9V"
      },
      "source": [
        "import numpy as np\n",
        "\n",
        "x = np.array([[1,2],[3,4]])\n",
        "y = np.array([[5,6],[7,8]])\n",
        "\n",
        "v = np.array([9,10])\n",
        "w = np.array([11, 12])\n",
        "\n",
        "# Producto entre vectores\n",
        "print(\"Producto vector-vector\",v.dot(w))\n",
        "print(\"Producto vector-vector\", np.dot(v, w),\"\\n\")\n",
        "\n",
        "# Producto matriz/vector;\n",
        "print(\"Producto matriz/vector \\n\",x.dot(v))\n",
        "print(\"Producto matriz/vector \\n\", np.dot(x, v),\"\\n\")\n",
        "\n",
        "# Producto matrix/matrix ; \n",
        "print(\"Producto matriz/matriz \\n\",x.dot(y),\"\\n\")\n",
        "print(\"Producto matriz/matriz \\n\",np.dot(x, y))"
      ],
      "execution_count": null,
      "outputs": []
    },
    {
      "cell_type": "markdown",
      "metadata": {
        "id": "363CkXHPNcXL"
      },
      "source": [
        "Python proporciona algunas funciones para realizar operaciones sobre los arrays. \n",
        "Por ejemplo, la función `sum` realiza una suma sobre todos los elementos del array:"
      ]
    },
    {
      "cell_type": "code",
      "metadata": {
        "id": "wDmks3LyNtAI"
      },
      "source": [
        "import numpy as np\n",
        "\n",
        "x = np.array([[1,2],[3,4]])\n",
        "\n",
        "print(\"Suma total de los elementos del array\", np.sum(x))  # Calculo de la suma de todos los elementos.\n",
        "print(\"Suma de cada columna\",np.sum(x, axis=0))  # Suma de cada columna\n",
        "print(\"Suma de cada fila\",np.sum(x, axis=1))  # Suma de cada fila"
      ],
      "execution_count": null,
      "outputs": []
    },
    {
      "cell_type": "markdown",
      "metadata": {
        "id": "9KxDpyp1PAMS"
      },
      "source": [
        "Para más funciones puede consultar [este enlace](https://docs.scipy.org/doc/numpy/reference/routines.math.html)."
      ]
    },
    {
      "cell_type": "markdown",
      "metadata": {
        "id": "GrBf6Ya90lbM"
      },
      "source": [
        "<p><a name=\"bcasting\"></a></p>\n",
        "\n",
        "## 2.5. Broadcasting.\n",
        "\n",
        "[[Contenidos]](#contents)\n",
        "\n",
        "El Broadcasting es una potente herramienta que nos permite trabajar en numpy con arrays de diferentes tamaños para realizar operaciones aritméticas. A menudo tenemos un array mas pequeño y otro de tamaño mayor, de tal forma que queremos usar el array más pequeño varias veces para realizar algunas operaciones en el array mas grande.\n",
        "\n",
        "Supongamos, por ejemplo, que se quiere adicionar un vector constante a cada fila de una matriz. Podemos realizar esto de la siguiente forma:"
      ]
    },
    {
      "cell_type": "code",
      "metadata": {
        "id": "i2dGNyrbdHau"
      },
      "source": [
        "import numpy as np\n",
        "\n",
        "x = np.arange(start = 1, stop = 13, step = 1).reshape((4,3)); # Array de 4x3 \n",
        "y = np.array([1,0,1]) # Vector fila\n",
        "v = np.empty_like(x) #Array vacio de la mismas dimensiones que x\n",
        "\n",
        "# Modificación del array x, sumando en cada fila el vector fila y.\n",
        "\n",
        "for i in range(len(x)):\n",
        "  v[i,:] = x[i,:]+y\n",
        "\n",
        "print(x)\n",
        "print(v)"
      ],
      "execution_count": null,
      "outputs": []
    },
    {
      "cell_type": "markdown",
      "metadata": {
        "id": "tnRyZCIMgl2g"
      },
      "source": [
        "No obstante, cuando la matriz es muy grande, un loop for puede resultar muy lento. El problema anterior también puede ser resuelto de la siguiente forma:"
      ]
    },
    {
      "cell_type": "code",
      "metadata": {
        "id": "Y8PpTsRDhRJU"
      },
      "source": [
        "np.tile?"
      ],
      "execution_count": null,
      "outputs": []
    },
    {
      "cell_type": "code",
      "metadata": {
        "id": "8S4cRFs8iciC"
      },
      "source": [
        "x = np.arange(start = 1, stop = 13, step = 1).reshape((4,3)); # Array de 4x3 \n",
        "y = np.array([1,0,1]) # Vector fila\n",
        "yy = np.tile(y,(4,1)) # Creación de matriz de (4,3) con cada fila dada por y.\n",
        "print(yy)\n",
        "\n",
        "v = x+yy\n",
        "print(v)"
      ],
      "execution_count": null,
      "outputs": []
    },
    {
      "cell_type": "markdown",
      "metadata": {
        "id": "4NgtnTSQjxJe"
      },
      "source": [
        "El broadcasting en numpy nos permite realizar esto calculos sin la necesidad de crear multiples copias de y. A continuación se muestra la solución al anaterior ploblema usando broadcasting:"
      ]
    },
    {
      "cell_type": "code",
      "metadata": {
        "id": "8RKjPJa2kEzP"
      },
      "source": [
        "x = np.arange(start = 1, stop = 13, step = 1).reshape((4,3)); # Array de 4x3 \n",
        "y = np.array([1,0,1]) # Vector fila\n",
        "\n",
        "v = x+y\n",
        "print(v)"
      ],
      "execution_count": null,
      "outputs": []
    },
    {
      "cell_type": "markdown",
      "metadata": {
        "id": "NQnxhbtOqZLc"
      },
      "source": [
        "<p><a name=\"tnumpy\"></a></p>\n",
        "\n",
        "## 2.6. Taller Numpy\n",
        "\n",
        "[[Contenidos]](#contents)"
      ]
    },
    {
      "cell_type": "markdown",
      "metadata": {
        "id": "SQURPZFUqjo9"
      },
      "source": [
        "<div class=\"alert alert-danger alertdanger\" style=\"margin-top: 20px\">\n",
        "<h1> Pregunta #1: </h1>\n",
        "<b>Defina un array de 6x6x6 de floats de 64 bits. Determine cual será la reserva de memoria en bytes necesaria para definir el array y corrobórelo mediante funciones de numpy</b>.\n",
        "</div>"
      ]
    },
    {
      "cell_type": "code",
      "metadata": {
        "id": "YuV9jC_quRsk"
      },
      "source": [
        "#escriba acá su código"
      ],
      "execution_count": null,
      "outputs": []
    },
    {
      "cell_type": "markdown",
      "metadata": {
        "id": "RxwB3NJD8g9l"
      },
      "source": [
        "<div class=\"alert alert-danger alertdanger\" style=\"margin-top: 20px\">\n",
        "<h1> Pregunta #2: </h1>\n",
        "<b>Realice una comparación entre el tiempo de computo requerido para la sumar todos los elementos de un array mediante el método la función vectorizada de numpy sum en comparación con una suma realizada iterando sobre los elementos del array</b>.\n",
        "</div>"
      ]
    },
    {
      "cell_type": "code",
      "metadata": {
        "id": "b_d0aukwuVTn"
      },
      "source": [
        "#escriba acá su código"
      ],
      "execution_count": null,
      "outputs": []
    },
    {
      "cell_type": "markdown",
      "metadata": {
        "id": "sRWedwBcq0nG"
      },
      "source": [
        "<div class=\"alert alert-danger alertdanger\" style=\"margin-top: 20px\">\n",
        "<h1> Pregunta #3: </h1>\n",
        "<b>Demuestre que la multiplicación de una matriz $A$ de $6\\times6$ por la matriz ideantidad $I$ es igual a la matriz $A$</b>.\n",
        "</div>\n",
        "\n"
      ]
    },
    {
      "cell_type": "code",
      "metadata": {
        "id": "WSKbyRpguYMt"
      },
      "source": [
        "#escriba acá su código"
      ],
      "execution_count": null,
      "outputs": []
    },
    {
      "cell_type": "markdown",
      "metadata": {
        "id": "iLkJH4010yGI"
      },
      "source": [
        "<p><a name=\"matplotlib\"></a></p>\n",
        "\n",
        "# 3. Matplotlib.\n",
        "\n",
        "[[Contenidos]](#contents)\n",
        "\n",
        "\n",
        "matplotlib es la librería principal para la realización de gráficas científicas en Python. Esta librería proporciona funciones para la realizacion de gráficas como mapas, histogramas, gráficas de dispersión, entre otras. La visualización de sus datos y de diferentes aspectos de su analisis puede brindarle una mejor comprensión del problema a tratar. Para mayor información sobre la librería `matplotlib` puede consultar en [este enlace](https://matplotlib.org/index.html).\n",
        "\n"
      ]
    },
    {
      "cell_type": "markdown",
      "metadata": {
        "id": "rE8AzSuaaCde"
      },
      "source": [
        "<p><a name=\"mpylab\"></a></p>\n",
        "\n",
        "## 3.1 matplotlib, pyplot y pylab.\n",
        "\n",
        "[[Contenidos]](#contents)\n",
        "\n",
        "\n",
        "\n",
        "1.   `matplotlib`: Cuando se habla de paquete, se habla de todo el paquete de visualización de Python.\n",
        "2.   `pyplot` : corresponde a un módulo de `matplotlib`, el cual permite crear  gráficas de forma rápida y sin necesidad de instanciar figuras o ejes.\n",
        "3.   `pylab` es una módulo poco recomendado para el tratamiento de arrays y gráficas inteacticas, cuyo uso es desaconsejado [en este enlace](https://matthiasbussonnier.com/posts/10-No-PyLab-Thanks.html).\n",
        "\n"
      ]
    },
    {
      "cell_type": "markdown",
      "metadata": {
        "id": "ThjV-GxbYn_r"
      },
      "source": [
        "<p><a name=\"plotfunc\"></a></p>\n",
        "\n",
        "## 3.2 Función `plot`.\n",
        "\n",
        "[[Contenidos]](#contents)"
      ]
    },
    {
      "cell_type": "code",
      "metadata": {
        "id": "oAkS2PnSDZh6"
      },
      "source": [
        "import matplotlib.pyplot as plt\n",
        "\n",
        "# Generar una secuencia de 100 numeros entre -10 y 10 \n",
        "x = np.linspace(-10, 10, 100)\n",
        "# Creamos un arreglo con el seno de éstos números\n",
        "y = np.sin(x)\n",
        "# Generamos una gráfica con x vs y\n",
        "plt.plot(x, y, marker=\"x\")"
      ],
      "execution_count": null,
      "outputs": []
    },
    {
      "cell_type": "markdown",
      "metadata": {
        "id": "QGhkpdwnYBG9"
      },
      "source": [
        "Antes de realizar gráficas en usando matplolib, es necesario conocer cada una de las partes de una gráfica, con el fin de acceder facilmente a las funciones que las modifica:"
      ]
    },
    {
      "cell_type": "markdown",
      "metadata": {
        "id": "gYEvMIv2TFSK"
      },
      "source": [
        "<a href=\"https://ibb.co/nBCK0rX\"><img src=\"https://i.ibb.co/ScrZxNk/partes-grafica.png\" alt=\"partes-grafica\" border=\"0\"></a>"
      ]
    },
    {
      "cell_type": "markdown",
      "metadata": {
        "id": "yKci4KKLeg8u"
      },
      "source": [
        "Podemos representar en una figura, varias gráficas, adicionarle un título y etiquetar las curvas y los ejes"
      ]
    },
    {
      "cell_type": "code",
      "metadata": {
        "id": "-VabNHNiehqd"
      },
      "source": [
        "import numpy as np\n",
        "import matplotlib.pyplot as plt\n",
        "\n",
        "# Coordenadas x y de las gráficas para las funciones seno y coseno\n",
        "x = np.arange(0, 3 * np.pi, 0.1)\n",
        "y_sin = np.sin(x)\n",
        "y_cos = np.cos(x)\n",
        "\n",
        "# Gráfica de los puntos usando matplolib.\n",
        "plt.plot(x, y_sin)\n",
        "plt.plot(x, y_cos)\n",
        "plt.xlabel('label del eje x')\n",
        "plt.ylabel('label del eje y')\n",
        "plt.title('Funciones seno y coseno')\n",
        "plt.legend(['Seno', 'Coseno'])\n",
        "plt.show()"
      ],
      "execution_count": null,
      "outputs": []
    },
    {
      "cell_type": "markdown",
      "metadata": {
        "id": "A9eYoSjpncUH"
      },
      "source": [
        "Existen casos en los que los datos se presentan en un formato que le permite acceder a variables particulares con mediante una palabra clave. Por ejemplo, con numpy.recarray o pandas.DataFrame:"
      ]
    },
    {
      "cell_type": "code",
      "metadata": {
        "id": "xjBMkaa3nddG"
      },
      "source": [
        "import matplotlib.pyplot as plt\n",
        "\n",
        "dicc = {'a': np.arange(50),\n",
        "        'c': np.random.randint(0, 50, 50),\n",
        "        'd': np.random.randn(50)}\n",
        "dicc['b'] = dicc['a'] + 10 * np.random.randn(50)\n",
        "dicc['d'] = np.abs(dicc['d']) * 100\n",
        "\n",
        "plt.scatter('a', 'b', c='c', s='d', data=dicc)\n",
        "plt.xlabel('Entrada a')\n",
        "plt.ylabel('Entrada b')\n",
        "plt.show()"
      ],
      "execution_count": null,
      "outputs": []
    },
    {
      "cell_type": "code",
      "metadata": {
        "id": "pP6eeohspx74"
      },
      "source": [
        "plt.scatter?"
      ],
      "execution_count": null,
      "outputs": []
    },
    {
      "cell_type": "markdown",
      "metadata": {
        "id": "Cqdo4gxOfxxt"
      },
      "source": [
        "<p><a name=\"catVars\"></a></p>\n",
        "\n",
        "## 3.3 Gráficas de variables categóricas.\n",
        "\n",
        "[[Contenidos]](#contents)"
      ]
    },
    {
      "cell_type": "code",
      "metadata": {
        "id": "Eb9JiZLRsf-u"
      },
      "source": [
        "import matplotlib.pyplot as plt\n",
        "\n",
        "names = ['groupo_a', 'groupo_b', 'groupo_c']\n",
        "values = [5, 25, 100]\n",
        "\n",
        "plt.figure(figsize=(9, 3))\n",
        "\n",
        "plt.subplot(131)\n",
        "plt.bar(names, values)\n",
        "plt.subplot(132)\n",
        "plt.scatter(names, values)\n",
        "plt.subplot(133)\n",
        "plt.plot(names, values)\n",
        "plt.suptitle('Gráficas categóricas')\n",
        "plt.show()"
      ],
      "execution_count": null,
      "outputs": []
    },
    {
      "cell_type": "code",
      "metadata": {
        "id": "cw-jX0yB5gYu"
      },
      "source": [
        "plt.subplot?"
      ],
      "execution_count": null,
      "outputs": []
    },
    {
      "cell_type": "markdown",
      "metadata": {
        "id": "3BCp_ZEyg5f7"
      },
      "source": [
        "<p><a name=\"scatterPlots\"></a></p>\n",
        "\n",
        "## 3.4 Gráficos de dispersión.\n",
        "\n",
        "[[Contenidos]](#contents)\n",
        "\n",
        "A continuación se muestran varios ejemplos de gráficos de dispersión, los cuales pueden realizarse mediante la función `scatter`:"
      ]
    },
    {
      "cell_type": "code",
      "metadata": {
        "id": "5APQ2ZhHhIEz"
      },
      "source": [
        "import matplotlib.pyplot as plt\n",
        "import numpy as np\n",
        "\n",
        "# Generación de los puntos (x,y) para la realización de los gráficos de \n",
        "# dispersión.\n",
        "x=range(10)\n",
        "y=np.random.rand(10)\n",
        "\n",
        "plt.scatter(x,y)\n",
        "plt.xlabel('label del eje x')\n",
        "plt.ylabel('label del eje y')\n",
        "plt.title('Gráfico de dispersión')\n",
        "plt.show()"
      ],
      "execution_count": null,
      "outputs": []
    },
    {
      "cell_type": "code",
      "metadata": {
        "id": "tQx5gaepjN-k"
      },
      "source": [
        "xx=np.array([0,3,5,1,9,7,6,2,4,8])\n",
        "\n",
        "plt.scatter(xx,y)\n",
        "plt.xlabel('label del eje x')\n",
        "plt.ylabel('label del eje y')\n",
        "plt.title('Gráfico de dispersión')\n",
        "plt.show()"
      ],
      "execution_count": null,
      "outputs": []
    },
    {
      "cell_type": "code",
      "metadata": {
        "id": "QQD9aPp_jvI1"
      },
      "source": [
        "plt.plot(x,y)\n",
        "plt.xlabel('label del eje x')\n",
        "plt.ylabel('label del eje y')\n",
        "plt.title('Gráfico de dispersión, puntos conectados')\n",
        "plt.show()"
      ],
      "execution_count": null,
      "outputs": []
    },
    {
      "cell_type": "code",
      "metadata": {
        "id": "bptSqSz4j-vB"
      },
      "source": [
        "plt.plot(xx,y)\n",
        "plt.xlabel('label del eje x')\n",
        "plt.ylabel('label del eje y')\n",
        "plt.title('Gráfico de dispersión, puntos conectados')\n",
        "plt.show()"
      ],
      "execution_count": null,
      "outputs": []
    },
    {
      "cell_type": "markdown",
      "metadata": {
        "id": "5Hmbe8lCkne5"
      },
      "source": [
        "<p><a name=\"tmatplotlib\"></a></p>\n",
        "\n",
        "## 3.5 Taller `matplotlib`\n",
        "\n",
        "[[Contenidos]](#contents)"
      ]
    },
    {
      "cell_type": "markdown",
      "metadata": {
        "id": "YkWTnd6FlYZr"
      },
      "source": [
        "<div class=\"alert alert-danger alertdanger\" style=\"margin-top: 20px\">\n",
        "<h1> Pregunta #1: </h1>\n",
        "\n",
        "**Grafíque los cuatro gráficos de ejemplo de la sección [gráficos de dispersión](#scatterPlots) en una figura compuesta por 4 subplots de 2x2 cajones**.\n"
      ]
    },
    {
      "cell_type": "markdown",
      "metadata": {
        "id": "QRcTUlvY1KT1"
      },
      "source": [
        "<p><a name=\"pandas\"></a></p>\n",
        "\n",
        "# 4. Pandas.\n",
        "\n",
        "[[Contenidos]](#contents)\n",
        "\n",
        "\n",
        "`pandas` es una biblioteca que respresenta una extensión de numpy, para la manipulación y análisis de datos en Python."
      ]
    },
    {
      "cell_type": "markdown",
      "metadata": {
        "id": "-J3wznX-tPJa"
      },
      "source": [
        "\n",
        "<p><a name=\"ipandas\"></a></p>\n",
        "\n",
        "## 4.1 Introducción a la librería `pandas`.\n",
        "\n",
        "[[Contenidos]](#contents)\n",
        "\n",
        "A continuación se expondrá la noción básica de dataFrame en `pandas`. \n",
        "\n"
      ]
    },
    {
      "cell_type": "code",
      "metadata": {
        "id": "TgcumsD9tPoh"
      },
      "source": [
        "import pandas as pd\n",
        "\n",
        "numbers = {\"even\":list(range(0,200,2)),\"odd\":list(range(1,200,2))}\n",
        "\n",
        "# Creación de un dataFrame en pandas\n",
        "df=pd.DataFrame(numbers)"
      ],
      "execution_count": null,
      "outputs": []
    },
    {
      "cell_type": "markdown",
      "metadata": {
        "id": "c_XHgD9Iva2G"
      },
      "source": [
        "<p><a name=\"visu\"></a></p>\n",
        "\n",
        "## 4.2 Visualización del dataFrame.\n",
        "\n",
        "[[Contenidos]](#contents)"
      ]
    },
    {
      "cell_type": "markdown",
      "metadata": {
        "id": "rsRXMJKuvljX"
      },
      "source": [
        "Para visualizar el dataFrame creado, sobretodo en el caso de almacenamiento de grandes tablas, existen dos métodos o funciones útiles mediante las cuales se puede inspecciónar el principio y final de los datos.\n",
        "\n",
        "\n",
        "Para inspeccionar la cabecera de la tabla usamos la función `head()` de la librería."
      ]
    },
    {
      "cell_type": "code",
      "metadata": {
        "id": "2atMDMORwGdm"
      },
      "source": [
        "df.head()"
      ],
      "execution_count": null,
      "outputs": []
    },
    {
      "cell_type": "markdown",
      "metadata": {
        "id": "_YWMAyg2w1Ct"
      },
      "source": [
        "Por defecto, la función `head()` mostrará las cinco primeras filas de la tabla, además de la cabecera. \n",
        "\n",
        "Si se quiere imprimir en pantalla más elementos de la fila, se debe indicar el número deseado de la siguiente forma: "
      ]
    },
    {
      "cell_type": "code",
      "metadata": {
        "id": "HPkxwIoUw5Yq"
      },
      "source": [
        "# Mostrar en pantalla las 8 primeras filas del dataFrame\n",
        "df.head(8)"
      ],
      "execution_count": null,
      "outputs": []
    },
    {
      "cell_type": "markdown",
      "metadata": {
        "id": "vlSG623Fx4gA"
      },
      "source": [
        "Por otra parte, si lo que se quiere inspeccionar son los últimos datos del dataFrame, debemos usar la función `tail()`:"
      ]
    },
    {
      "cell_type": "code",
      "metadata": {
        "id": "mcM_YsB6yEsu"
      },
      "source": [
        "# Inspección del final del dataFrame\n",
        "\n",
        "df.tail()"
      ],
      "execution_count": null,
      "outputs": []
    },
    {
      "cell_type": "markdown",
      "metadata": {
        "id": "aqs77P9kyVW7"
      },
      "source": [
        "De forma análoga a la función `head()`, podemos especificar el número de filas a visualizar en la parte final del dataFrame:"
      ]
    },
    {
      "cell_type": "code",
      "metadata": {
        "id": "LDYEnNlCyjw6"
      },
      "source": [
        "df.tail(7)"
      ],
      "execution_count": null,
      "outputs": []
    },
    {
      "cell_type": "markdown",
      "metadata": {
        "id": "sJ8t9alGusho"
      },
      "source": [
        "<p><a name=\"internet\"></a></p>\n",
        "\n",
        "## 4.3 Carga de una base de datos de internet.\n",
        "\n",
        "[[Contenidos]](#contents)\n"
      ]
    },
    {
      "cell_type": "code",
      "metadata": {
        "id": "o2ji8VAvu9ij"
      },
      "source": [
        "import pandas as pd\n",
        "\n",
        "# Lectura de una base de datos en internet y asignación a la variable df.\n",
        "path = \"https://s3-api.us-geo.objectstorage.softlayer.net/cf-courses-data/CognitiveClass/DA0101EN/auto.csv\"\n",
        "df = pd.read_csv(path, header=None)"
      ],
      "execution_count": null,
      "outputs": []
    },
    {
      "cell_type": "markdown",
      "metadata": {
        "id": "HKLB_0Cdvy94"
      },
      "source": [
        "Inspección de la tabla"
      ]
    },
    {
      "cell_type": "code",
      "metadata": {
        "id": "NquKtl9zwDwo"
      },
      "source": [
        "df.head()"
      ],
      "execution_count": null,
      "outputs": []
    },
    {
      "cell_type": "markdown",
      "metadata": {
        "id": "_gW_tx5Wwbf7"
      },
      "source": [
        "Nótese que la cabecera de la tabla no se imprime, esto se debe a que, cuando se importó la tabla, no incluimos la cabecera al indicarlo mediante el argumento `header=None`."
      ]
    },
    {
      "cell_type": "code",
      "metadata": {
        "id": "I6ndQk2bwMq7"
      },
      "source": [
        "df.tail()"
      ],
      "execution_count": null,
      "outputs": []
    },
    {
      "cell_type": "markdown",
      "metadata": {
        "id": "lvfDMqm5BIgJ"
      },
      "source": [
        "## Pregunta: \n",
        "\n",
        "Imprima en pantalla los 10 primeros elementos del dataFrame y los 10 últimos elementos."
      ]
    },
    {
      "cell_type": "markdown",
      "metadata": {
        "id": "ELX582hhBOys"
      },
      "source": [
        "Para ver la solución haga double-click <b>aquí</b>.\n",
        "\n",
        "<!-- La respuesta se encuentra a continuación:\n",
        "\n",
        "# Celda 1: 10 primeros elementos del dataFrame\n",
        "\n",
        "df.head(10)\n",
        "\n",
        "# Celda 2: 10 últimos elementos del dataFrame\n",
        "\n",
        "df.tail(10)\n",
        "\n",
        "-->"
      ]
    },
    {
      "cell_type": "markdown",
      "metadata": {
        "id": "uRHx-OTDBWp7"
      },
      "source": [
        "Agreguemos un header a los datos cargados:"
      ]
    },
    {
      "cell_type": "code",
      "metadata": {
        "id": "ggmzAZlmBbnX"
      },
      "source": [
        "# Creación de un header\n",
        "headers = [\"symboling\",\"normalized-losses\",\"make\",\"fuel-type\",\"aspiration\", \"num-of-doors\",\"body-style\",\n",
        "         \"drive-wheels\",\"engine-location\",\"wheel-base\", \"length\",\"width\",\"height\",\"curb-weight\",\"engine-type\",\n",
        "         \"num-of-cylinders\", \"engine-size\",\"fuel-system\",\"bore\",\"stroke\",\"compression-ratio\",\"horsepower\",\n",
        "         \"peak-rpm\",\"city-mpg\",\"highway-mpg\",\"price\"]\n",
        "print(\"headers\\n\", headers)"
      ],
      "execution_count": null,
      "outputs": []
    },
    {
      "cell_type": "markdown",
      "metadata": {
        "id": "72gjs6qUBgoy"
      },
      "source": [
        "Remplazo del header en el dataFrame"
      ]
    },
    {
      "cell_type": "code",
      "metadata": {
        "id": "3ySUhc6qBme1"
      },
      "source": [
        "df.columns = headers\n",
        "df.head(10)"
      ],
      "execution_count": null,
      "outputs": []
    },
    {
      "cell_type": "markdown",
      "metadata": {
        "id": "ZO4od7zdACUx"
      },
      "source": [
        "<p><a name=\"dataExploration\"></a></p>\n",
        "\n",
        "## 4.4 Exploración básica del dataFrame.\n",
        "\n",
        "[[Contenidos]](#contents)\n",
        "\n",
        "\n",
        "A continuación se analizan los tipos de datos que contiene el dataFrame anterior. Para esto, usamos la funcion `dtypes`"
      ]
    },
    {
      "cell_type": "code",
      "metadata": {
        "id": "RdtAfbJdAcw-"
      },
      "source": [
        "df.dtypes"
      ],
      "execution_count": null,
      "outputs": []
    },
    {
      "cell_type": "markdown",
      "metadata": {
        "id": "mfb_KbuLB5S3"
      },
      "source": [
        "**Descripción del dataFrame**\n",
        "\n",
        "Para obtener una descripción estadistica del dataFrame, podemos usar el método `describe()` de la siguiente forma "
      ]
    },
    {
      "cell_type": "code",
      "metadata": {
        "id": "EyfNX8ACB3-p"
      },
      "source": [
        "df.describe()"
      ],
      "execution_count": null,
      "outputs": []
    },
    {
      "cell_type": "markdown",
      "metadata": {
        "id": "l0qd61hBCi0A"
      },
      "source": [
        "También podemos mostrar la descripción de unas cuantas columnas de la tabla, indicando los nombres de las columnas:"
      ]
    },
    {
      "cell_type": "code",
      "metadata": {
        "id": "KXkiRk5HDBxL"
      },
      "source": [
        "df[['length','compression-ratio']].describe()"
      ],
      "execution_count": null,
      "outputs": []
    },
    {
      "cell_type": "markdown",
      "metadata": {
        "id": "6OnqFBnKDNUC"
      },
      "source": [
        "Para obtener un resumen conciso de los datos almacenados en el dataFrame, podemos ejecutar el método `info()`"
      ]
    },
    {
      "cell_type": "code",
      "metadata": {
        "id": "ib_NQM28DiMe"
      },
      "source": [
        "df.info()"
      ],
      "execution_count": null,
      "outputs": []
    },
    {
      "cell_type": "markdown",
      "metadata": {
        "id": "vSis4zUtGdwM"
      },
      "source": [
        "<p><a name=\"timeSeries\"></a></p>\n",
        "\n",
        "## 4.5 Series de tiempo.\n",
        "\n",
        "[[Contenidos]](#contents)"
      ]
    },
    {
      "cell_type": "code",
      "metadata": {
        "id": "Hr8MtfrTO8V0"
      },
      "source": [
        "# Import packages\n",
        "import numpy as np\n",
        "import pandas as pd\n",
        "import matplotlib.pyplot as plt\n",
        "\n",
        "# Lectura de una base de datos en internet y asignación a la variable df.\n",
        "path = \"https://raw.githubusercontent.com/diplomado-bigdata-machinelearning-udea/Curso1/master/s02/multiTimeline.csv\"\n",
        "df = pd.read_csv(path, skiprows=1)"
      ],
      "execution_count": null,
      "outputs": []
    },
    {
      "cell_type": "code",
      "metadata": {
        "id": "oX-74tbGPIN3"
      },
      "source": [
        "df.head()"
      ],
      "execution_count": null,
      "outputs": []
    },
    {
      "cell_type": "markdown",
      "metadata": {
        "id": "zDV6eZ8vPNJw"
      },
      "source": [
        "El argumento `skiprows` se introduce con el fin de no incluir la primera columna.\n",
        "\n",
        "Se puede usar también el método `.info()` para revizar los tipos de datos, el número de columnas y más:"
      ]
    },
    {
      "cell_type": "code",
      "metadata": {
        "id": "-Qj8lccxPOd-"
      },
      "source": [
        "df.info()"
      ],
      "execution_count": null,
      "outputs": []
    },
    {
      "cell_type": "markdown",
      "metadata": {
        "id": "ImzP3cILPW4u"
      },
      "source": [
        "El siguiente paso es organizar los datos de tendencias de google, antes de realizar el análisis de estos."
      ]
    },
    {
      "cell_type": "markdown",
      "metadata": {
        "id": "jDRsKcJMPrh3"
      },
      "source": [
        "**Data Wrangling**\n",
        "\n",
        "Lo primero que debemos hacer es modificar los nombres de las columnas con el fin de evitar espacios dentro de ellos. Para realizar lo anterior, podemos usar reasignar a df.columns una lista con el nombre de las columnas que deseemos."
      ]
    },
    {
      "cell_type": "code",
      "metadata": {
        "id": "_G08c39kPwNq"
      },
      "source": [
        "df.columns = ['month', 'diet', 'gym', 'finance']\n",
        "df.head()"
      ],
      "execution_count": null,
      "outputs": []
    },
    {
      "cell_type": "markdown",
      "metadata": {
        "id": "BWs8QQi9P0jG"
      },
      "source": [
        "Posteriormente, convertimos la columna month en un tipo de dato DateTime para convertirlo en el índice del DataFrame.\n",
        "\n",
        "Usaremos el método .to_datetime() para convertir la columna 'mes' del DataFrame a DateTime.\n",
        "\n",
        "Se debe tener cuidado de incluir el argumento inplace cuando configure el índice del DataFrame df para que realmente modifique el índice original y lo configure en la columna 'mes'."
      ]
    },
    {
      "cell_type": "code",
      "metadata": {
        "id": "6HT_WeP1P73I"
      },
      "source": [
        "df.month = pd.to_datetime(df.month)\n",
        "df.set_index('month', inplace=True)\n",
        "df.head()"
      ],
      "execution_count": null,
      "outputs": []
    },
    {
      "cell_type": "markdown",
      "metadata": {
        "id": "2H1qGXGeQCci"
      },
      "source": [
        "**Exploración de los datos**\n",
        "\n",
        "A continuación, visualicemos todos los datos de la tabla mediante el método plot de panda:"
      ]
    },
    {
      "cell_type": "code",
      "metadata": {
        "id": "vQhWKAdmQEiu"
      },
      "source": [
        "df.plot(figsize=(10,5), linewidth=3, fontsize=20)\n",
        "plt.xlabel('Year', fontsize=15);"
      ],
      "execution_count": null,
      "outputs": []
    },
    {
      "cell_type": "markdown",
      "metadata": {
        "id": "TP4Jh26qQVOq"
      },
      "source": [
        "Si se quiere visualizar solo una columna de los datos, se debe especificar como una lista:"
      ]
    },
    {
      "cell_type": "code",
      "metadata": {
        "id": "i3R5rdawQbsJ"
      },
      "source": [
        "df[['diet']].plot(figsize=(10,5), linewidth=3, fontsize=20)\n",
        "plt.xlabel('Year', fontsize=15);"
      ],
      "execution_count": null,
      "outputs": []
    },
    {
      "cell_type": "markdown",
      "metadata": {
        "id": "VHT2R-SqQh93"
      },
      "source": [
        "Podemos incluir mas de una columna en la lista"
      ]
    },
    {
      "cell_type": "code",
      "metadata": {
        "id": "3mYJA9PXQrFK"
      },
      "source": [
        "df[['diet','gym']].plot(figsize=(10,5), linewidth=3, fontsize=20)\n",
        "plt.xlabel('Year', fontsize=15);"
      ],
      "execution_count": null,
      "outputs": []
    },
    {
      "cell_type": "markdown",
      "metadata": {
        "id": "qKf8fugiQx7g"
      },
      "source": [
        "O las tres"
      ]
    },
    {
      "cell_type": "code",
      "metadata": {
        "id": "NgmRPV1LQzKi"
      },
      "source": [
        "df[['diet','gym','finance']].plot(figsize=(10,5), linewidth=3, fontsize=15)\n",
        "plt.xlabel('Year', fontsize=15);"
      ],
      "execution_count": null,
      "outputs": []
    },
    {
      "cell_type": "markdown",
      "metadata": {
        "id": "uvKhMq3fQ-ks"
      },
      "source": [
        "**Tendencias**: Hay varias formas de identificar tendencias en series de tiempo. Una forma popular es tomar un promedio móvil, lo que significa que, para cada punto de tiempo, se toma el promedio de los puntos a cada lado (el número de puntos se especifica mediante un tamaño de ventana, que debe elegir)."
      ]
    },
    {
      "cell_type": "markdown",
      "metadata": {
        "id": "E5QKWUADRFoD"
      },
      "source": [
        "**Rolling average**\n",
        "\n",
        "Empecemos por realizar el promedio movil dentro de una ventana de puntos variables, en la columna 'diet', con el fin de observar lo que realiza el este método en los datos. "
      ]
    },
    {
      "cell_type": "code",
      "metadata": {
        "id": "45dWszBtRJ8x"
      },
      "source": [
        "diet = df[['diet']]\n",
        "diet.rolling(1).mean().plot(figsize=(10,5), linewidth=3, fontsize=15)\n",
        "plt.xlabel('Year', fontsize=15);"
      ],
      "execution_count": null,
      "outputs": []
    },
    {
      "cell_type": "code",
      "metadata": {
        "id": "auuQXIysRQWI"
      },
      "source": [
        "diet = df[['diet']]\n",
        "diet.rolling(6).mean().plot(figsize=(10,5), linewidth=3, fontsize=15)\n",
        "plt.xlabel('Year', fontsize=15);"
      ],
      "execution_count": null,
      "outputs": []
    },
    {
      "cell_type": "code",
      "metadata": {
        "id": "XEbay0aBRUtb"
      },
      "source": [
        "diet = df[['diet']]\n",
        "diet.rolling(12).mean().plot(figsize=(10,5), linewidth=3, fontsize=15)\n",
        "plt.xlabel('Year', fontsize=15);"
      ],
      "execution_count": null,
      "outputs": []
    },
    {
      "cell_type": "markdown",
      "metadata": {
        "id": "Btp1IzVGRpye"
      },
      "source": [
        "Veamos la tendendia en la variable 'gym'"
      ]
    },
    {
      "cell_type": "code",
      "metadata": {
        "id": "E3JFybcjRra9"
      },
      "source": [
        "gym = df[['gym']]\n",
        "gym.rolling(12).mean().plot(figsize=(10,5), linewidth=3, fontsize=15)\n",
        "plt.xlabel('Year', fontsize=15);"
      ],
      "execution_count": null,
      "outputs": []
    },
    {
      "cell_type": "markdown",
      "metadata": {
        "id": "HjGvROK4R9md"
      },
      "source": [
        "Mediante este promediado movil hemos eliminado la estacionalidad en los datos y puede observarse una tendencia al alsa en los datos 'gym'. No obstante, persiste la inquitud de cómo se comportan estos dos conjuntos de datos. Para ello, podemos graficar ambos conjuntos en una sola figura. Procedamos a construimos un nuevo DataFrame concatenando que contenga las columnas con el promedio móvil de 'diet' y 'dimnasio' mediante la función pd.concat(), que toma una lista de las columnas como primer argumento y se concatenan con el metodo .concat(), a lo largo del eje de las columnas."
      ]
    },
    {
      "cell_type": "code",
      "metadata": {
        "id": "4gzhukRASEOH"
      },
      "source": [
        "df_rm = pd.concat([diet.rolling(12).mean(), gym.rolling(12).mean()], axis='columns')\n",
        "df_rm.head(20)"
      ],
      "execution_count": null,
      "outputs": []
    },
    {
      "cell_type": "markdown",
      "metadata": {
        "id": "RulDVJWDSgaq"
      },
      "source": [
        "A continuación, graficamos los datos mediante el método `plot()`, tal y como se realizó anteriormente. "
      ]
    },
    {
      "cell_type": "code",
      "metadata": {
        "id": "B5uCIyhoSlAx"
      },
      "source": [
        "df_rm.plot(figsize=(10,5), linewidth=5, fontsize=15)\n",
        "plt.xlabel('Year', fontsize=15);"
      ],
      "execution_count": null,
      "outputs": []
    },
    {
      "cell_type": "markdown",
      "metadata": {
        "id": "wXZ2yWoxSzO8"
      },
      "source": [
        "Podemos observar que, al eliminar la estacionalidad, los datos de 'diet' presentan alguna forma de estacionalidad, mientras que los datos 'gym' tienen una tendencia al alza monotona. "
      ]
    },
    {
      "cell_type": "markdown",
      "metadata": {
        "id": "yFpEUNJ-S4Kb"
      },
      "source": [
        "**Diferenciación de primer orden**\n",
        "\n",
        "Otra forma de eliminar las tendencias globales de los datos se llama **diferenciación**, en donde se analizan las diferencias entre datos consecutivos del conjunto de datos. A esta técnica se le conoce con el nombre de diferenciación de primer orden, ya que solo nos centramos en las diferencias entre un dato y el dato inmediatamente anterior a este."
      ]
    },
    {
      "cell_type": "code",
      "metadata": {
        "id": "2XNcdjoCTB_I"
      },
      "source": [
        "diet.diff().plot(figsize=(10,5), linewidth=3, fontsize=15)\n",
        "plt.xlabel('Year', fontsize=15);"
      ],
      "execution_count": null,
      "outputs": []
    },
    {
      "cell_type": "markdown",
      "metadata": {
        "id": "05O1SjehTOU4"
      },
      "source": [
        "Nótese que hemos eliminado gran parte de la tendencia y que puede observarse valores pico cada mes de enero."
      ]
    },
    {
      "cell_type": "markdown",
      "metadata": {
        "id": "hCW75le1LRfc"
      },
      "source": [
        "<p><a name=\"tpandas\"></a></p>\n",
        "\n",
        "## 4.6 Taller `pandas`.\n",
        "\n",
        "[[Contenidos]](#contents)"
      ]
    },
    {
      "cell_type": "markdown",
      "metadata": {
        "id": "amHmB1KXEk38"
      },
      "source": [
        "<div class=\"alert alert-danger alertdanger\" style=\"margin-top: 20px\">\n",
        "<h1> Pregunta #1: </h1>\n",
        "  \n",
        "  Escriba un código de pandas para agregar datos a la siguiente serie de pandas s = pd.Series(['100', '200', 'python', '300.12', '400'])"
      ]
    },
    {
      "cell_type": "markdown",
      "metadata": {
        "id": "pG0BOoQGFQbI"
      },
      "source": [
        "<div class=\"alert alert-danger alertdanger\" style=\"margin-top: 20px\">\n",
        "<h1> Pregunta #2: </h1>\n",
        "  \n",
        "  \n",
        "1.  Escriba un código usando pandas que cree y muestre un DataFrame creado a partir del siguiente diccionario exam_data = {'name': ['Anastasia', 'Dima', 'Katherine', 'James', 'Emily', 'Michael', 'Matthew', 'Laura', 'Kevin', 'Jonas'], 'score': [12.5, 9, 16.5, 10, 9, 20, 14.5, 12, 8, 19], 'attempts': [1, 3, 2, 3, 2, 3, 1, 1, 2, 1], 'qualify': ['yes', 'no', 'yes', 'no', 'no', 'yes', 'yes', 'no', 'no', 'yes']} y las siguientes etiquetas para los índices labels = ['a', 'b', 'c', 'd', 'e', 'f', 'g', 'h', 'i', 'j']\n",
        "\n",
        "2.  Filtre solo las columnas 'name' y 'score'   DataFrame exam_data\n",
        "  \n",
        "3.  Selecionel las filas donde el número de intentos (attemps) es mayor que 2\n",
        "\n",
        "\n",
        "\n",
        "  \n",
        "\n"
      ]
    },
    {
      "cell_type": "markdown",
      "metadata": {
        "id": "boFz2qYDKNCY"
      },
      "source": [
        "<div class=\"alert alert-danger alertdanger\" style=\"margin-top: 20px\">\n",
        "<h1> Pregunta #3: </h1>\n",
        "\n",
        "Usando el mismo DatFrame anteior \n",
        "1. Selecciones las filas donde score se encuentre entre 15 y 20 (incluidos)\n",
        "2. Cambie el score en la fila 'd' a 11.5\n",
        "3. Agregue una nueva fila con etiqueta 'k' al data frame con un valor que usted desee para cada columna\n",
        "4. Borre la fila 'k' y entregue nuevamente el  DataFrame original.\n",
        "5. Ordene el DataFrame por nombre ('name') en orden ascendente.\n",
        "6.Reemplace los valores de la columna 'qualify' que contiene los valores 'yes' y 'no' por los valores buleanos True and False respectivamente.\n"
      ]
    },
    {
      "cell_type": "markdown",
      "metadata": {
        "id": "JsrMK0ddMBdp"
      },
      "source": [
        "<div class=\"alert alert-danger alertdanger\" style=\"margin-top: 20px\">\n",
        "<h1> Pregunta #4: </h1>\n",
        "\n",
        "Descargue el archivo almacenado en `*/s02/exp_data.csv` para almacenarlo localmente y cargue el archivo al colaboratory para elaborar una gráfica de las columnas que contienen el archívo; para realizar la gráfica decifre cual de ellas es la variable independiente y cual la dependiente.\n"
      ]
    }
  ]
}